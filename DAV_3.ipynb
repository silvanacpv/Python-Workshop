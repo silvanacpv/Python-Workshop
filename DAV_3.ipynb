{
 "cells": [
  {
   "cell_type": "markdown",
   "id": "0c5b5399-f189-4f4f-91ba-2e8ef6389dab",
   "metadata": {},
   "source": [
    "# Data Analytics and Visualization (part 3)\n",
    "\n",
    "## Matplotlib\n",
    "Matplotlib is a powerful plotting library used for creating static, interactive, and animated visualizations in Python. It provides a wide array of functions and tools to generate graphs and plots, making it one of the most popular data visualization tools in the data science and analytics community. \n",
    "\n",
    "Let's start by importing our libraries:"
   ]
  },
  {
   "cell_type": "code",
   "execution_count": 2,
   "id": "05fdda56-ce82-4f07-8d3a-183fa447f6fe",
   "metadata": {
    "tags": []
   },
   "outputs": [],
   "source": [
    "#Import needed libraries\n",
    "\n",
    "#Your code goes here"
   ]
  },
  {
   "cell_type": "code",
   "execution_count": 2,
   "id": "d6afb2f9-31b2-45ff-a7b8-a0d02f55fdae",
   "metadata": {},
   "outputs": [],
   "source": [
    "#Load the covid_19_cleaned.csv dataset\n",
    "#Your code goes here"
   ]
  },
  {
   "cell_type": "markdown",
   "id": "c45d7faf-7925-48d9-af55-2674ef5fae51",
   "metadata": {},
   "source": [
    "### Line Plot\n",
    "Line plots are used to visualize trends and changes in data over a continuous range, or time. We use line plots when we have data that can be represented as a series of points connected by lines, such as time series data or data with a natural ordering.\n",
    "\n",
    "Let's create a simple line plot with Matplotlib to visualize COVID-19 case metrics for the top 10 countries:"
   ]
  },
  {
   "cell_type": "code",
   "execution_count": 3,
   "id": "c7923efa-7573-4c70-a1d8-c153f903e1f7",
   "metadata": {
    "tags": []
   },
   "outputs": [],
   "source": [
    "# Sort by Cases and select top 10 countries\n",
    "#Your code goes here"
   ]
  },
  {
   "cell_type": "markdown",
   "id": "8a3ff2c1-8fcd-468d-9ac2-6a2c53ebb228",
   "metadata": {},
   "source": [
    "The line plot shows the number of COVID-19 cases across the top 10 countries with the highest case counts. Each point represents a country, and the line helps visualize how the case numbers vary from one country to another. The trend highlights which countries are most affected and how the cases compare among them."
   ]
  },
  {
   "cell_type": "markdown",
   "id": "81cf0a4e-6aaa-485d-9582-1f2a30d3f6c3",
   "metadata": {},
   "source": [
    "#### Code Explanation\n",
    "- **x** and **y** represent the sample data points that we want to plot.\n",
    "- **plt.plot(x, y)**: This line creates a basic line plot using the plot function. It takes x and y as arguments to plot the data points.\n",
    "- **plt.xlabel()** and **plt.ylabel()**: These lines label the X and Y axes, respectively, providing context for the plot.\n",
    "- **plt.title()**: This line adds a title to the plot.\n",
    "- **plt.show()**: This function displays the plot on the screen."
   ]
  },
  {
   "cell_type": "markdown",
   "id": "14c73dd4-af46-47d9-b7c4-48683612dec2",
   "metadata": {},
   "source": [
    "#### Exercise 1\n",
    "You are given the monthly average temperatures (in degrees Celsius) in a city for a year. Create a line plot to visualize the temperature trend over the year. The data is provided in the form of two lists: months (containing the month names) and temperatures (containing the corresponding average temperatures).\n",
    "\n",
    "months = ['Jan', 'Feb', 'Mar', 'Apr', 'May', 'Jun', 'Jul', 'Aug', 'Sep', 'Oct', 'Nov', 'Dec']\n",
    "\n",
    "temperatures = [10, 11, 15, 18, 22, 25, 28, 28, 25, 20, 15, 11]\n",
    "\n",
    "- Create a line plot that shows the temperature trend over the year.\n",
    "- Add appropriate labels to the X and Y axes.\n",
    "- Add a title to the plot to indicate what it represents.\n"
   ]
  },
  {
   "cell_type": "code",
   "execution_count": 4,
   "id": "60d9740c-95dd-46e1-9f12-b96d1ebd4ffa",
   "metadata": {
    "tags": []
   },
   "outputs": [],
   "source": [
    "#Data\n",
    "months = ['Jan', 'Feb', 'Mar', 'Apr', 'May', 'Jun', 'Jul', 'Aug', 'Sep', 'Oct', 'Nov', 'Dec']\n",
    "temperatures = [10, 11, 15, 18, 22, 25, 28, 28, 25, 20, 15, 11]\n",
    "\n",
    "#Create a line plot\n",
    "#Your code goes here\n",
    "\n",
    "#Label the X and Y axes\n",
    "#Your code goes here\n",
    "\n",
    "#Add a title\n",
    "#Your code goes here\n",
    "\n",
    "#Display the plot\n",
    "#Your code goes here"
   ]
  },
  {
   "cell_type": "markdown",
   "id": "fd3e1461-cd70-4764-9a23-3aed56d927b4",
   "metadata": {},
   "source": [
    "### Scatter Plot\n",
    "Scatter plots are used to visualize individual data points as dots on a two-dimensional plane. They are valuable for identifying patterns, trends, and relationships between two variables. \n",
    "\n",
    "We'll create a scatter plot using Matplotlib to explore the relationship between total COVID-19 tests and total cases by country.\n"
   ]
  },
  {
   "cell_type": "code",
   "execution_count": 5,
   "id": "52f49c77-1d8c-4c14-bbb5-bda643f394aa",
   "metadata": {},
   "outputs": [],
   "source": [
    "#Your code goes here"
   ]
  },
  {
   "cell_type": "markdown",
   "id": "0e88df04-932c-42de-8e5f-c2b93e2b44ff",
   "metadata": {},
   "source": [
    "This scatter plot shows the relationship between the total number of COVID-19 tests and total confirmed cases by country. There is a clear positive correlation, countries that conducted more tests generally reported more cases, which is expected as increased testing typically leads to higher case detection. \n",
    "\n",
    "Most of the countries are clustered in the lower-left area of the plot, indicating relatively low testing and case numbers, likely corresponding to smaller populations or limited resources. A few countries stand out with significantly higher testing and case counts, suggesting either large populations or severe outbreaks. Interestingly, some countries appear to have conducted a high number of tests while maintaining relatively low case numbers, which could reflect effective containment strategies or proactive mass testing. \n",
    "\n",
    "Overall, the plot highlights how testing volume influences reported cases and reveals disparities in testing and outbreak levels across countries."
   ]
  },
  {
   "cell_type": "markdown",
   "id": "429b204e-90e6-4bbe-ac22-9bf33ced21ef",
   "metadata": {},
   "source": [
    "#### Code Explanation\n",
    "- **x = df['Tests'] and y = df['Cases']**: These lines select the 'Tests' and 'Cases' columns from the DataFrame as the data for the x and y axes.\n",
    "- **plt.scatter(x, y, color='purple', alpha=0.6)**: This creates a scatter plot with purple dots that are slightly transparent (due to alpha=0.6).\n",
    "- **plt.xlabel('Total Tests') and plt.ylabel('Total Cases')**: These label the x-axis and y-axis for clarity.\n",
    "- **plt.title()**: Adds a title to the plot.\n",
    "- **plt.grid(True)**: Displays a grid on the plot for easier reading of values.\n",
    "- **plt.tight_layout()**: Adjusts the plot layout to prevent overlap of elements.\n",
    "- **plt.show()**: Displays the final plot."
   ]
  },
  {
   "cell_type": "markdown",
   "id": "113e7747-bb3d-4693-bffd-d4b6da3ea4d3",
   "metadata": {
    "tags": []
   },
   "source": [
    "### Bar Chart\n",
    "Bar charts represent categorical data with discrete bars, making it easy to compare values across different categories. We use bar charts when we want to compare data across categories, show rankings, or display frequencies or counts for discrete items.\n",
    "\n",
    "We'll create a bar chart using Matplotlib to compare the total number of COVID-19 deaths across the top 10 most affected countries:"
   ]
  },
  {
   "cell_type": "code",
   "execution_count": 6,
   "id": "b2ed1234-77ae-484e-8dc9-0bc3a5f84c03",
   "metadata": {},
   "outputs": [],
   "source": [
    "#Your code goes here"
   ]
  },
  {
   "cell_type": "markdown",
   "id": "fb371fbc-b45b-47ca-b344-c8ebb127800f",
   "metadata": {},
   "source": [
    "The bar chart provides a clear visual comparison of COVID-19 deaths across the top 10 countries. Each bar represents a country, and the height of the bar corresponds directly to the number of deaths reported. This makes it easy to quickly identify which countries have the highest death tolls, it helps viewers intuitively grasp the relative scale of the impact in each country."
   ]
  },
  {
   "cell_type": "markdown",
   "id": "3dd24028-f22e-4081-90ad-b343714d091b",
   "metadata": {},
   "source": [
    "#### Code Explanation\n",
    "- **top_countries = df.sort_values(by='Deaths', ascending=False).head(10)**: This line selects the top 10 countries with the highest number of deaths by sorting the dataframe in descending order.\n",
    "- **plt.bar(top_countries['country'], top_countries['Deaths'])**: Creates a bar chart where each bar represents a country, and the height corresponds to its total deaths.\n",
    "- **plt.xticks(rotation=45)**: Rotates the country names on the x-axis by 45 degrees for better readability.\n",
    "- **plt.xlabel('Country') and plt.ylabel('Deaths')**: Label the x-axis and y-axis to show what each axis represents.\n",
    "- **plt.title('Top 10 Countries by COVID-19 Deaths')**: Adds a descriptive title to the chart.\n",
    "- **plt.grid(axis='y')**: Adds horizontal grid lines to the y-axis, making it easier to compare bar heights.\n",
    "- **plt.show()**: Displays the final plot."
   ]
  },
  {
   "cell_type": "markdown",
   "id": "5e1377bf-4b19-4cf4-9419-48059d893d45",
   "metadata": {},
   "source": [
    "### Histogram\n",
    "Histograms are used to visualize the distribution of a single continuous variable. They divide the data into bins or intervals and show the frequency or count of data points in each bin. We use histograms when we want to understand the shape of a dataset’s distribution, identify central tendencies (mean, median, mode), and observe data skewness or the presence of multiple peaks.\n",
    "\n",
    "We'll use Matplotlib to create a histogram showing the distribution of COVID-19 recovery rates across countries:"
   ]
  },
  {
   "cell_type": "code",
   "execution_count": 7,
   "id": "997a1265-c906-4730-9068-528940720a61",
   "metadata": {
    "tags": []
   },
   "outputs": [],
   "source": [
    "#Your code goes here"
   ]
  },
  {
   "cell_type": "markdown",
   "id": "c492fb63-d939-4f09-8a5b-ca8ec8f1d36e",
   "metadata": {},
   "source": [
    "The histogram shows the distribution of COVID-19 recovery rates across countries, revealing two dominant patterns. A significant number of countries report very high recovery rates, clustered near 100%, indicating that nearly all recorded cases in those countries are marked as recovered. Conversely, there is another noticeable cluster near 0%, which likely reflects countries with missing or incomplete recovery data rather than genuinely low recovery rates. \n",
    "\n",
    "Very few countries fall within the mid-range of recovery rates (between 20% and 80%), suggesting that most countries either report full recovery or have little to no recovery data available. This uneven distribution highlights potential inconsistencies in how recovery data is recorded or reported across different regions."
   ]
  },
  {
   "cell_type": "markdown",
   "id": "8150e329-96ca-496a-97f5-23a7c53775c9",
   "metadata": {
    "jp-MarkdownHeadingCollapsed": true
   },
   "source": [
    "#### Code Explanation\n",
    "- **df['RecoveryRate'] = (df['Recovered'] / df['Cases']) * 100**: This line calculates the COVID-19 recovery rate for each country as a percentage.\n",
    "- **plt.hist(df['RecoveryRate'], bins=10, color='teal', edgecolor='black')**: This line creates a histogram showing the distribution of recovery rates across countries. It uses 10 bins, sets the bar color to teal, and outlines each bar in black.\n",
    "- **plt.xlabel('Recovery Rate (%)') and plt.ylabel('Number of Countries')**: These lines label the x-axis and y-axis, making it clear that the chart shows recovery rates and how many countries fall into each range.\n",
    "- **plt.title('Distribution of COVID-19 Recovery Rates')**: Adds a descriptive title to explain what the histogram represents.\n",
    "- **plt.grid(axis='y')**: Adds horizontal grid lines to improve readability of bar heights.\n",
    "- **plt.show()**: Renders and displays the plot."
   ]
  },
  {
   "cell_type": "markdown",
   "id": "e07d605d-87b4-49c9-b7c7-8aa5c7bd86e3",
   "metadata": {},
   "source": [
    "### Pie Chart\n",
    "Pie charts show the composition of a whole by dividing it into segments, typically representing proportions or percentages. We use pie charts when we want to visualize how individual components contribute to a whole, but be cautious with complex datasets or too many segments, as they can be challenging to interpret.\n",
    "\n",
    "We'll create a pie chart using Matplotlib to visualize the share of total COVID-19 cases by continent:\n"
   ]
  },
  {
   "cell_type": "code",
   "execution_count": 8,
   "id": "d5be460d-7107-4d10-bd31-066d418d179e",
   "metadata": {},
   "outputs": [],
   "source": [
    "#Your code goes here"
   ]
  },
  {
   "cell_type": "markdown",
   "id": "689c37a5-3d3f-4d55-956d-57e54ac27b84",
   "metadata": {},
   "source": [
    "The pie chart shows the proportion of total COVID-19 cases by continent. Each wedge represents a continent, and its size reflects the share of cases from that region. \n",
    "\n",
    "For example, the continent with the largest number of cases, Africa, appears as the biggest segment in the chart. This makes it easy to visually compare how the pandemic has impacted different continents and quickly identify which regions have been most affected."
   ]
  },
  {
   "cell_type": "markdown",
   "id": "afc4a0e3-37d1-471f-aa56-f819a2e7b488",
   "metadata": {},
   "source": [
    "#### Code Explanation\n",
    "- **continent_cases = df.groupby('continent')['Cases'].sum()**: This groups the data by continent and calculates the total number of COVID-19 cases for each one.\n",
    "- **plt.pie(continent_cases, labels=continent_cases.index, autopct='%1.1f%%')**: This generates a pie chart where each slice represents a continent. labels=continent_cases.index sets the continent names as labels. autopct='%1.1f%%' displays the percentage of total cases for each continent.\n",
    "- **plt.title('Share of Cases by Continent')**: Adds a title to the pie chart.\n",
    "- **plt.show()**: Displays the pie chart."
   ]
  },
  {
   "cell_type": "markdown",
   "id": "b8e12de6-381e-4a58-b48d-76effbdec79f",
   "metadata": {
    "tags": []
   },
   "source": [
    "#### Exercise 2\n",
    "You have survey data that shows the distribution of favorite pizza toppings among a group of 100 people. Create a pie chart to visualize the distribution of pizza topping preferences. The data is provided in the form of a dictionary where each topping is a key, and the corresponding value is the number of people who chose that topping as their favorite.\n",
    "\n",
    "pizza_toppings = {\n",
    "    'Pepperoni': 30,\n",
    "    'Mushroom': 20,\n",
    "    'Margherita': 15,\n",
    "    'Vegetarian': 10,\n",
    "    'Supreme': 10,\n",
    "    'Hawaiian': 5,\n",
    "    'Other': 10\n",
    "}\n",
    "\n",
    "- Create a pie chart that displays the distribution of favorite pizza toppings.\n",
    "- Label each slice of the pie chart with the topping name and the percentage of people who chose it as their favorite.\n",
    "- Add a title to the pie chart to describe its purpose.\n",
    "- Bonus: Highlight the slice with the most popular topping using the *explode* parameter of Matplotlib.\n"
   ]
  },
  {
   "cell_type": "code",
   "execution_count": 9,
   "id": "efd78eac-2567-4fc9-a1a2-26189012c00e",
   "metadata": {
    "tags": []
   },
   "outputs": [],
   "source": [
    "#Data\n",
    "pizza_toppings = { \n",
    "    'Pepperoni': 30, \n",
    "    'Mushroom': 20, \n",
    "    'Margherita': 15, \n",
    "    'Vegetarian': 10, \n",
    "    'Supreme': 10, \n",
    "    'Hawaiian': 5, \n",
    "    'Other': 10 \n",
    "}\n",
    "\n",
    "#Extract labels and sized from the dictionary\n",
    "#Your code goes here\n",
    "\n",
    "#Explode the slice with the most popular topping\n",
    "#Your code goes here\n",
    "\n",
    "#Create a pie chart\n",
    "#Your code goes here\n",
    "\n",
    "#Add Title\n",
    "#Your code goes here\n",
    "\n",
    "#Display the pie chart\n",
    "#Your code goes here\n"
   ]
  },
  {
   "cell_type": "markdown",
   "id": "5a0fdd88-7c5b-44ba-a6e1-9782e1c25a89",
   "metadata": {},
   "source": [
    "### Subplots\n",
    "Subplots in data visualization divide a figure into smaller plots, displaying various data representations in a shared space. They aid in comparisons, correlations, and juxtaposition of datasets, highlighting distinct data parts and dimensions, and improving understanding and depth of data findings.\n",
    "\n",
    "Let's walk through creating a figure with multiple subplots, each showcasing a different type of plot explained above. "
   ]
  },
  {
   "cell_type": "code",
   "execution_count": 10,
   "id": "47611f3a-25b2-4ebc-952f-5b9296f9c6dd",
   "metadata": {
    "tags": []
   },
   "outputs": [],
   "source": [
    "# Creating data for plots\n",
    "x = [1,2,3,4,5]\n",
    "y = [10,7,15,9,12]\n",
    "\n",
    "# Creating figure and subplots\n",
    "#Your code goes here\n",
    "\n",
    "# Line plot\n",
    "#Your code goes here\n",
    "\n",
    "# Scatter plot\n",
    "scatter_y = [8,6,12,7,10]\n",
    "#Your code goes here\n",
    "\n",
    "# Bar chart\n",
    "categories = ['A','B','C','D']\n",
    "values = [7,3,9,5]\n",
    "#Your code goes here\n",
    "\n",
    "# Histogram\n",
    "hist_data = [5,7,6,8,5,7,8,6,7,8,6,5,7,6,8,7,5,7,6,8,7,5,6,8]\n",
    "#Your code goes here\n",
    "\n",
    "# Pie chart\n",
    "sizes = [30,20,25,15,10]\n",
    "labels = ['Apple', 'Orange', 'Banana', 'Grape', 'Melon']\n",
    "#Your code goes here\n",
    "\n",
    "# Removing empty subplot\n",
    "#Your code goes here\n",
    "\n",
    "# Adjusting layout\n",
    "#Your code goes here\n",
    "\n",
    "# Showing the plots\n",
    "#Your code goes here"
   ]
  },
  {
   "cell_type": "markdown",
   "id": "6ab80591-d364-4a80-af0b-e496bdb2ea57",
   "metadata": {},
   "source": [
    "#### Code Explanation\n",
    "- **fig, axs = plt.subplots(2, 3, figsize=(12, 8))** generates a figure with a 2x3 grid of subplots and sets its size to 12x8 inches.\n",
    "- **Line Plot:**\n",
    "    - **axs[0, 0].plot(x, y):** Plots a line graph using x as the x-axis values and y as the y-axis values.\n",
    "    - **axs[0, 0].set_title('Line Plot'):** Sets the title for the line plot subplot.\n",
    "- **Scatter Plot:**\n",
    "    - **scatter_y = [8, 6, 12, 7, 10]**: Defines a list of y-axis values for a scatter plot.\n",
    "    - **axs[0, 1].scatter(x, scatter_y)**: Creates a scatter plot using x values against scatter_y.\n",
    "- **Bar Chart:**\n",
    "    - **categories = ['A', 'B', 'C', 'D']**: Represents categories for the bar chart.\n",
    "    - **values = [7, 3, 9, 5]**: Defines values corresponding to each category.\n",
    "    - **axs[0, 2].bar(categories, values)**: Generates a bar chart with categories on the x-axis and values on the y-axis.\n",
    "- Histogram:\n",
    "    - **hist_data**: Represents data for the histogram.\n",
    "    - **axs[1, 0].hist(hist_data, bins=5)**: Creates a histogram with hist_data and 5 bins.\n",
    "- Pie Chart:\n",
    "    - **sizes**: Contains sizes representing portions of a pie chart.\n",
    "    - **labels**: Represents labels for each portion in the pie chart.\n",
    "    - **axs[1, 1].pie(sizes, labels=labels, autopct='%1.1f%%')**: Generates a pie chart with specified sizes and labels, displaying percentages.\n",
    "    - **axs[1, 1].set_title('Pie Chart')**: Sets the title for the pie chart subplot.\n",
    "- **fig.delaxes(axs[1, 2])** removes an empty subplot at position (1, 2).\n",
    "- **plt.tight_layout()** adjusts the layout of subplots to avoid overlapping.\n",
    "- **plt.show()** displays the generated subplots containing the line plot, scatter plot, bar chart, histogram, and pie chart."
   ]
  },
  {
   "cell_type": "markdown",
   "id": "66387e45-7351-4c0e-887d-c28fd8b1d385",
   "metadata": {},
   "source": [
    "## Seaborn\n",
    "Seaborn is a popular Python data visualization library that is often used in conjunction with Matplotlib. While Matplotlib is a powerful and flexible library for creating a wide range of basic and advanced plots, Seaborn is designed specifically for statistical data visualization.\n",
    "\n",
    "Let's start this section by importing the seaborn library:\n"
   ]
  },
  {
   "cell_type": "code",
   "execution_count": 11,
   "id": "f499262b-d7e3-470a-ac11-e5108666ace7",
   "metadata": {
    "tags": []
   },
   "outputs": [],
   "source": [
    "#Import seaborn library\n",
    "#Your code goes here"
   ]
  },
  {
   "cell_type": "markdown",
   "id": "54323ec9-ba8f-4cb8-9e97-895c63d5f4bc",
   "metadata": {},
   "source": [
    "### Box Plot\n",
    "\n",
    "A box plot is a way to show what a bunch of numbers look like, helping us see how the numbers are spread out and if there are any unusual values. Here's what you need to know about box plots in simple terms:\n",
    "\n",
    "- Box: The main part of the plot is the box. It shows where the middle 50% of the numbers fall. Think of it as the central area where most of the numbers are.\n",
    "- Lines at the Top and Bottom of the Box (Whiskers): These lines extend from the box. They show how far the numbers go without including the unusual ones. They usually stop at a point that's 1.5 times the box's height (which is called the \"interquartile range\" or IQR).\n",
    "- Middle Line Inside the Box: This line shows the median, which is the middle point of all the numbers when they are sorted from smallest to largest.\n",
    "-  Dots Outside the Whiskers: These dots represent outliers. Outliers are numbers that are quite far from most of the data. They stand out because they are either much larger or much smaller than the others.\n",
    "\n",
    "![Ocean Image](https://help.ezbiocloud.net/wp-content/uploads/2020/04/%E1%84%89%E1%85%B3%E1%84%8F%E1%85%B3%E1%84%85%E1%85%B5%E1%86%AB%E1%84%89%E1%85%A3%E1%86%BA-2020-04-19-%E1%84%8B%E1%85%A9%E1%84%8C%E1%85%A5%E1%86%AB-9.41.35.png)\n"
   ]
  },
  {
   "cell_type": "markdown",
   "id": "0daa4b10-5c2c-4b1a-8a37-0702b36bae9f",
   "metadata": {},
   "source": [
    "We'll load an existing dataset from Seaborn and use a box plot to visualize the distribution of total bills by day:"
   ]
  },
  {
   "cell_type": "code",
   "execution_count": 12,
   "id": "e38057a8-6059-4441-841f-02b504a08e9b",
   "metadata": {
    "tags": []
   },
   "outputs": [],
   "source": [
    "# Sample data\n",
    "#Your code goes here\n",
    "\n",
    "# Create a box plot\n",
    "#Your code goes here\n",
    "\n",
    "# Add a title\n",
    "#Your code goes here\n",
    "\n",
    "# Show the plot\n",
    "#Your code goes here\n"
   ]
  },
  {
   "cell_type": "markdown",
   "id": "49c43ef9-89d4-4adc-8760-0f8fe1774467",
   "metadata": {},
   "source": [
    "The box plot shows the distribution of total bills for each day, allowing comparison of central tendency, spread, and potential outliers. The median line within the box indicates central tendency, while the box size and whisker length indicate variability. Outliers outside the whiskers indicate unusually large total bills, such as 'Thur' with high outliers.\n"
   ]
  },
  {
   "cell_type": "markdown",
   "id": "a2ff2d8c-38ab-4e0c-86fc-09725533593b",
   "metadata": {},
   "source": [
    "#### Code Explanation\n",
    "- We load a sample dataset (the Tips dataset in this case).\n",
    "- **sns.boxplot(x=\"day\", y=\"total_bill\", data=data, palette=\"husl\")**: This line creates a box plot, displaying the distribution of total_bill for each day. The palette argument specifies the color palette.\n",
    "- **plt.title('Seaborn Box Plot Example')**: This line adds a title to the plot.\n",
    "- **plt.show()**: This function displays the box plot.\n"
   ]
  },
  {
   "cell_type": "markdown",
   "id": "3e252a78-e24f-4b4c-8eef-09cdf73f5f62",
   "metadata": {},
   "source": [
    "### Heatmap\n",
    "Heatmaps are used to visualize relationships and patterns in a matrix by color-coding values. We use heatmaps to display correlation matrices, visualize hierarchies, or explore patterns in large datasets where it’s important to see relationships between variables. Each cell in the heatmap is colored based on the value it represents. Darker colors indicate higher values, while lighter colors indicate lower values.\n",
    "\n",
    "We will create a heatmap using Seaborn to visualize a correlation matrix."
   ]
  },
  {
   "cell_type": "code",
   "execution_count": 13,
   "id": "a641df4b-555f-4c92-bcbb-f17311f27ef1",
   "metadata": {
    "tags": []
   },
   "outputs": [],
   "source": [
    "# Sample data: correlation matrix\n",
    "#Your code goes here\n",
    "\n",
    "# Create a heatmap\n",
    "#Your code goes here\n",
    "\n",
    "# Add a title\n",
    "#Your code goes here\n",
    "\n",
    "# Show the plot\n",
    "#Your code goes here"
   ]
  },
  {
   "cell_type": "markdown",
   "id": "ef908016-d6a8-4b0e-8766-f389b5e6485c",
   "metadata": {},
   "source": [
    "The heatmap allows us to observe seasonal trends in passenger numbers. For example, there is a clear increase in passengers during the summer months of June, July, and August. \n",
    "\n",
    "By looking across the years, we can identify patterns and changes in passenger numbers. For example, there seems to be a gradual increase in passengers over the years. Darker or warmer colors in cells indicate higher passenger counts, while lighter cells indicate lower counts. This provides a visual representation of the variation in passenger numbers across months and years.\n",
    "\n",
    "The darkest cell corresponds to July 1960, suggesting it had the highest number of passengers during the observed period. Conversely, the lightest or cold colored cells correspond to January and February of 1949, indicating lower passenger numbers.\n",
    "\n",
    "**Key Features of a Heatmap**\n",
    "- Colors Represent Values: In a heatmap, the colors correspond to data values, with different shades or colors indicating different levels. Typically, darker colors represent lower values, and lighter or warmer colors represent higher values (or vice versa, depending on the color scheme).\n",
    "- Axes for Rows and Columns: Heatmaps have two axes—rows and columns. These might represent different categories, variables, or observations. You can label these axes to give context to what the colors represent.\n",
    "- Color Scales: Heatmaps use color scales to depict the range of values. This scale helps you understand what each color means in terms of numerical data.\n"
   ]
  },
  {
   "cell_type": "markdown",
   "id": "aab12a95-96b6-4540-aca2-b8ff2c0a702c",
   "metadata": {},
   "source": [
    "#### Code Explanation\n",
    "- We load a sample dataset (the Flights dataset in this case) and create a correlation matrix using **pivot_table()**.\n",
    "- **sns.heatmap(corr_matrix, annot=True, cmap=\"coolwarm\")**: This line creates a heatmap that visualizes the correlation matrix. The annot argument adds numerical annotations to the cells, and the cmap argument specifies the color map.\n",
    "- **plt.title('Seaborn Heatmap Example')**: This line adds a title to the plot.\n",
    "- **plt.show()**: This function displays the heatmap."
   ]
  },
  {
   "cell_type": "markdown",
   "id": "41c88f19-2512-4ae9-a9df-61882991334c",
   "metadata": {},
   "source": [
    "### Scatter Plot with Regression Line"
   ]
  },
  {
   "cell_type": "markdown",
   "id": "4da1656b-151f-4824-baea-a3a6dd0bf064",
   "metadata": {},
   "source": [
    "Seaborn's regplot function creates a scatter plot with a regression line, allowing for predictions about y based on x. The accuracy of these predictions depends on the strength of the linear relationship. The data points' proximity to the regression line indicates the strength of the relationship, while tighter clustering around the line suggests a stronger correlation. Seaborn automatically calculates and displays the regression line with confidence intervals."
   ]
  },
  {
   "cell_type": "code",
   "execution_count": 14,
   "id": "5065c3eb-7ae2-4e63-8bbd-225b12c7fa79",
   "metadata": {},
   "outputs": [],
   "source": [
    "#Your code goes here"
   ]
  },
  {
   "cell_type": "markdown",
   "id": "60c4a1b9-1780-44e7-9ee6-07c0b20177e6",
   "metadata": {},
   "source": [
    "This scatter plot shows the relationship between the number of COVID-19 tests and the number of confirmed cases. Each dot represents a country, and the red line shows the overall trend. We can see that countries that did more testing usually reported more cases. This makes sense because the more you test, the more likely you are to find people who have the virus. Most countries are grouped in the lower part of the graph, meaning they had fewer tests and fewer cases, while a few had much higher numbers.\n",
    "\n",
    "The regression line shows the overall trend or relationship between two variables — in this case, the number of COVID-19 tests (x-axis) and the number of confirmed cases (y-axis). It helps answer the question: \"If testing increases, what happens to case numbers?\" The upward slope of the line tells us that as the number of tests goes up, the number of cases also tends to go up.\n",
    "\n",
    "The shaded area around the regression line is called the confidence interval. It shows the range where the true trend is likely to fall. The wider the shaded area, the less certain we are about the exact position of the line in that region. If it's narrow, we’re more confident in the trend shown."
   ]
  },
  {
   "cell_type": "markdown",
   "id": "fd078c45-4982-4eed-8e09-570364c27a88",
   "metadata": {},
   "source": [
    "## Plot and Save\n",
    "Saving a figure during visualization is crucial to preserve and share the insights gained from the data. It ensures that the visual representation is accessible for future reference, analysis, and communication with others.\n",
    "\n",
    "Here’s an example of how to create a simple line plot using Matplotlib and save it to an image file:\n"
   ]
  },
  {
   "cell_type": "code",
   "execution_count": 15,
   "id": "f4e6f574-b2dc-4117-9faa-22edf7373ee3",
   "metadata": {
    "tags": []
   },
   "outputs": [],
   "source": [
    "# Sample data\n",
    "x = [1,2,3,4,5]\n",
    "y = [10,12,5,8,7]\n",
    "\n",
    "# Create a line plot\n",
    "#Your code goes here\n",
    "\n",
    "# Add labels and a title\n",
    "#Your code goes here\n",
    "\n",
    "# Save the plot to an image file (e.g., PNG)\n",
    "#Your code goes here\n",
    "\n",
    "# Show the plot (optional)\n",
    "#Your code goes here"
   ]
  },
  {
   "cell_type": "markdown",
   "id": "1372d976-1baf-4b60-a556-94e9f03dea49",
   "metadata": {
    "jp-MarkdownHeadingCollapsed": true,
    "tags": []
   },
   "source": [
    "The savefig function in Matplotlib is used to save a Matplotlib figure (plot) as an image file in various formats, such as PNG, JPEG, PDF, SVG, and more. It allows you to customize the output file format, resolution, and other parameters. Here are some key points about the savefig function:"
   ]
  },
  {
   "cell_type": "code",
   "execution_count": 16,
   "id": "210ac8d3-a7be-4fca-8d38-af461422dcdf",
   "metadata": {
    "tags": []
   },
   "outputs": [],
   "source": [
    "# Save the plot as a PNG image with higher resolution and a white background\n",
    "plt.savefig('my_plot.png', format = 'png', dpi = 300, \n",
    "            bbox_inches = 'tight', facecolor='white')"
   ]
  }
 ],
 "metadata": {
  "kernelspec": {
   "display_name": "Python 3 (ipykernel)",
   "language": "python",
   "name": "python3"
  },
  "language_info": {
   "codemirror_mode": {
    "name": "ipython",
    "version": 3
   },
   "file_extension": ".py",
   "mimetype": "text/x-python",
   "name": "python",
   "nbconvert_exporter": "python",
   "pygments_lexer": "ipython3",
   "version": "3.13.6"
  }
 },
 "nbformat": 4,
 "nbformat_minor": 5
}
