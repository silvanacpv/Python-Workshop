{
 "cells": [
  {
   "cell_type": "markdown",
   "id": "77e57b81-244d-4dc7-9fc2-3a07cd87e49c",
   "metadata": {},
   "source": [
    "#### Question 1: Import appropriate package and load the dataset\n",
    "Using pandas load the *covid_19.csv*"
   ]
  },
  {
   "cell_type": "code",
   "execution_count": 2,
   "id": "301d1d57-6f2e-4793-82d5-4acb8453f094",
   "metadata": {
    "tags": []
   },
   "outputs": [],
   "source": [
    "#Your code goes here\n",
    "\n",
    "# Load your dataset \n",
    "#Your code goes here\n",
    "\n",
    "# Output the first 5 rows of the dataframe\n",
    "#Your code goes here"
   ]
  },
  {
   "cell_type": "markdown",
   "id": "94bcc0df-e1d2-4e5e-9915-c8a0d14c9a40",
   "metadata": {
    "tags": []
   },
   "source": [
    "#### Question 2: Complete the 'handle_missing_values' function to handle missing values in the dataset. \n",
    "\n",
    "Iterate each column of the dataframe **df_filled**. Using **fillna()** fill the ***NaN*** values in each column by *replacing it with a value of zero (0) if it's a numeric column or with the string \"Unknown\" if it's a text column*.\n",
    "\n",
    "*Hint* : You can use numpy to detect if the column's data type is a number with the following condition:\n",
    "-  **if np.issubdtype(df_filled[column].dtype, np.number)**\n",
    "\n",
    "Save it in the **filled_missing_df** variable"
   ]
  },
  {
   "cell_type": "code",
   "execution_count": 67,
   "id": "18b17a27-c35d-4f4e-b535-708942e8dde4",
   "metadata": {},
   "outputs": [],
   "source": [
    "# Function to handle missing values for both text and numeric columns\n",
    "def handle_missing_values(df):\n",
    "    df_filled = df.copy()\n",
    "    \n",
    "    #Your code goes here\n",
    "\n",
    "    return df_filled"
   ]
  },
  {
   "cell_type": "code",
   "execution_count": 3,
   "id": "85cd7436-6a30-4918-84f6-adc0ac30e9b8",
   "metadata": {
    "tags": []
   },
   "outputs": [],
   "source": [
    "filled_missing_df = #Your code goes here"
   ]
  },
  {
   "cell_type": "markdown",
   "id": "cb6889d2-aa3a-4d81-87f9-3d95d824bde6",
   "metadata": {},
   "source": [
    "#### Question 3: Complete the 'handle_outliers' function to handle outliers in the dataset\n",
    "Same as Question 2, iterate each column of the dataframe (filled_missing_df), detect if the column's data type is a number, and if it is then identify outliers using the interquartile range (IQR) method teached in class. Save it in the **df_without_outliers** variable."
   ]
  },
  {
   "cell_type": "code",
   "execution_count": 69,
   "id": "3e5ce67d-5153-445f-8af2-22424dc38b5e",
   "metadata": {},
   "outputs": [],
   "source": [
    "# Function to handle outliers for numeric columns\n",
    "def handle_outliers(df):\n",
    "    df_outliers_removed = df.copy()\n",
    "    \n",
    "    #Your code goes here\n",
    "    \n",
    "    return df_outliers_removed"
   ]
  },
  {
   "cell_type": "code",
   "execution_count": 4,
   "id": "fbd753da-09df-44e6-8146-813cd50c60ec",
   "metadata": {
    "tags": []
   },
   "outputs": [],
   "source": [
    "df_without_outliers = #Your code goes here"
   ]
  },
  {
   "cell_type": "markdown",
   "id": "f1fc8717-0d07-472b-a1eb-6dabe2d924ec",
   "metadata": {},
   "source": [
    "#### Question 4: Complete the 'handle_duplicates' function to remove duplicates in the dataset\n",
    "Drop duplicates from the dataframe (df_without_outliers) and save it in the **df_deduplicated** variable. "
   ]
  },
  {
   "cell_type": "code",
   "execution_count": 6,
   "id": "33d380d0-9a15-4c84-9342-b93adbd02340",
   "metadata": {
    "tags": []
   },
   "outputs": [],
   "source": [
    "# Function to handle duplicates\n",
    "def handle_duplicates(df):\n",
    "    df_deduplicated = #Your code goes here\n",
    "    \n",
    "\n",
    "    return df_deduplicated"
   ]
  },
  {
   "cell_type": "code",
   "execution_count": 72,
   "id": "b2c7974b-b850-408b-b183-29aa4da3ddbd",
   "metadata": {},
   "outputs": [
    {
     "name": "stdout",
     "output_type": "stream",
     "text": [
      "Original dataset shape: (149, 9)\n",
      "Deduplicated dataset shape:(116, 9)\n"
     ]
    }
   ],
   "source": [
    "df_deduplicated = #Your code goes here"
   ]
  },
  {
   "cell_type": "markdown",
   "id": "6028c285-2008-4858-9dbe-7db63942541f",
   "metadata": {},
   "source": [
    "#### Question 5: Complete the 'standardize_data' function to standardizes the 'continent' column in the dataset\n",
    "Same as we learned in class, standarize the *continent* column in the dataframe (df_deduplicated) and save it in the **standarized_df** variable.\n",
    "\n",
    "To first identify the inconsisencies, use the unique() method to identify the distinct values within the column:"
   ]
  },
  {
   "cell_type": "code",
   "execution_count": 7,
   "id": "94cf3c43-084d-4a16-8aa8-094b4b854f24",
   "metadata": {},
   "outputs": [],
   "source": [
    "#Your code goes here"
   ]
  },
  {
   "cell_type": "code",
   "execution_count": 74,
   "id": "0c818c9f-9aef-41cd-b4f8-e69b202798dc",
   "metadata": {},
   "outputs": [],
   "source": [
    "# Function to address inconsistency and standardize data\n",
    "def standardize_data(df):\n",
    "    df_standardized = df.copy()\n",
    "    \n",
    "    #Your code goes here\n",
    "    \n",
    "    return df_standardized"
   ]
  },
  {
   "cell_type": "code",
   "execution_count": 8,
   "id": "e92cf1e1-0d3a-4dc8-ae77-ecd9c727cd30",
   "metadata": {
    "tags": []
   },
   "outputs": [],
   "source": [
    "standarized_df = #Your code goes here"
   ]
  },
  {
   "cell_type": "markdown",
   "id": "f42ad74e-965b-4aa1-b755-2f40d098d8c9",
   "metadata": {},
   "source": [
    "#### Question 6: Save Your Cleaned DataFrame\n",
    "Save your cleaned DataFrame (standarized_df) to the Results folder."
   ]
  },
  {
   "cell_type": "code",
   "execution_count": 9,
   "id": "4187185f-f245-4541-848f-be1b474aa099",
   "metadata": {},
   "outputs": [],
   "source": [
    "#Your code goes here"
   ]
  }
 ],
 "metadata": {
  "kernelspec": {
   "display_name": "Python 3 (ipykernel)",
   "language": "python",
   "name": "python3"
  },
  "language_info": {
   "codemirror_mode": {
    "name": "ipython",
    "version": 3
   },
   "file_extension": ".py",
   "mimetype": "text/x-python",
   "name": "python",
   "nbconvert_exporter": "python",
   "pygments_lexer": "ipython3",
   "version": "3.13.6"
  }
 },
 "nbformat": 4,
 "nbformat_minor": 5
}
